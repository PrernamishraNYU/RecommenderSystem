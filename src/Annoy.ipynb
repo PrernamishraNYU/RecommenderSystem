{
 "cells": [
  {
   "cell_type": "code",
   "execution_count": 179,
   "metadata": {},
   "outputs": [],
   "source": [
    "import numpy as np\n",
    "from annoy import AnnoyIndex\n",
    "import pickle\n",
    "import os\n",
    "import time\n",
    "from tqdm import tqdm\n",
    "import numpy as np\n",
    "import matplotlib.pyplot as plt\n",
    "\n",
    "\n",
    "%matplotlib inline"
   ]
  },
  {
   "cell_type": "code",
   "execution_count": 180,
   "metadata": {},
   "outputs": [],
   "source": [
    "from tqdm.notebook import tqdm_notebook as tqdm\n",
    "tqdm.pandas()"
   ]
  },
  {
   "cell_type": "code",
   "execution_count": 181,
   "metadata": {},
   "outputs": [],
   "source": [
    "# Importing matrix \n",
    "track_vec = pickle.load(open(f'/Users/prernamishra/Downloads/track_vec.pkl', 'rb'))\n",
    "test_user_vec = pickle.load(open(r'/Users/prernamishra/Downloads/val_user_vec.pkl', 'rb'))"
   ]
  },
  {
   "cell_type": "code",
   "execution_count": 171,
   "metadata": {},
   "outputs": [
    {
     "data": {
      "text/plain": [
       "True"
      ]
     },
     "execution_count": 171,
     "metadata": {},
     "output_type": "execute_result"
    }
   ],
   "source": [
    "\n",
    "f = len(track_vec[0])\n",
    "t = AnnoyIndex(f, metric='dot')\n",
    "for i in range(len(track_vec)):\n",
    "    t.add_item(i, track_vec[i])\n",
    "\n",
    "t.build(30)"
   ]
  },
  {
   "cell_type": "code",
   "execution_count": null,
   "metadata": {},
   "outputs": [],
   "source": []
  },
  {
   "cell_type": "code",
   "execution_count": 172,
   "metadata": {},
   "outputs": [],
   "source": [
    "def find_nearest_exhaustive(data, queries, k):\n",
    "    if len(data.shape) == 1:\n",
    "        data = np.array([x for x in data])\n",
    "    n_items = data.shape[0]\n",
    "    n_feat = data.shape[1]\n",
    "    n_queries = len(queries)\n",
    "    \n",
    "    def single_query(query):\n",
    "        start = time.time()\n",
    "        if type(query) is not np.ndarray:\n",
    "            query = np.array(query)\n",
    "        res = np.argsort(-data.dot(query))[:k]\n",
    "        interval = time.time() - start\n",
    "        return interval, res\n",
    "    times = []\n",
    "    results = []\n",
    "    for i in tqdm(range(n_queries)):\n",
    "        interval, res = single_query(queries[i])\n",
    "        times.append(interval)\n",
    "        results.append(res)\n",
    "    mean_time = sum(times) / len(times)\n",
    "    print('-' * 26)\n",
    "    print('Exhaustive Brute-force Search\\n')\n",
    "    print('Mean Query Search: %.6f' % mean_time)\n",
    "    \n",
    "    return mean_time, results"
   ]
  },
  {
   "cell_type": "code",
   "execution_count": 173,
   "metadata": {},
   "outputs": [
    {
     "data": {
      "application/vnd.jupyter.widget-view+json": {
       "model_id": "c4134cc8f6e341668fcbfd50e5735428",
       "version_major": 2,
       "version_minor": 0
      },
      "text/plain": [
       "HBox(children=(HTML(value=''), FloatProgress(value=0.0, max=21.0), HTML(value='')))"
      ]
     },
     "metadata": {},
     "output_type": "display_data"
    },
    {
     "name": "stdout",
     "output_type": "stream",
     "text": [
      "\n",
      "--------------------------\n",
      "Exhaustive Brute-force Search\n",
      "\n",
      "Mean Query Search: 0.004748\n"
     ]
    }
   ],
   "source": [
    "bf_mean_time, bf_results = find_nearest_exhaustive(track_vec, test_user_vec, 500)"
   ]
  },
  {
   "cell_type": "code",
   "execution_count": 174,
   "metadata": {},
   "outputs": [],
   "source": [
    "\n",
    "def wrap_with(obj, method, mapping):\n",
    "    '''\n",
    "    obj: the model that can respond to the query\n",
    "    method: the name of the query method\n",
    "    mapping: what input be mapped\n",
    "    '''\n",
    "    get_map = lambda x: [x[mapping[i]] for i in range(len(mapping))]\n",
    "    def wrapped(*args, **kwrds):\n",
    "        return obj.__getattribute__(method)(*get_map(args))\n",
    "    return wrapped"
   ]
  },
  {
   "cell_type": "code",
   "execution_count": 175,
   "metadata": {},
   "outputs": [],
   "source": [
    "def find_nearest_algo(data, queries, true_label, model_wrapped, k, extra_para):\n",
    "    if len(data.shape) == 1:\n",
    "        data = np.array([x for x in data])\n",
    "    n_items = data.shape[0]\n",
    "    n_feat = data.shape[1]\n",
    "    n_queries = len(queries)\n",
    "    def single_query(query):\n",
    "        start = time.time()\n",
    "        res = model_wrapped(query, k, extra_para)\n",
    "        interval = time.time() - start\n",
    "        return interval, res\n",
    "    def get_recall(predict, truth):\n",
    "        return len([x for x in predict if x in truth]) / len(truth)\n",
    "    times = []\n",
    "    recalls = []\n",
    "    for i in tqdm(range(n_queries)):\n",
    "        interval, res = single_query(queries[i])\n",
    "        recall = get_recall(res, true_label[i])\n",
    "        times.append(interval)\n",
    "        recalls.append(recall)\n",
    "    mean_time = sum(times) / len(times)\n",
    "    mean_recall = sum(recalls) / len(recalls)\n",
    "    print('-' * 26)\n",
    "    print('Algorithm with k\\' = %d\\n' % k)\n",
    "    print('Mean Query Search Time: %.6f' % mean_time)\n",
    "    print('Mean Recall: %.6f' % mean_recall)\n",
    "    \n",
    "    return mean_time, mean_recall"
   ]
  },
  {
   "cell_type": "code",
   "execution_count": 176,
   "metadata": {},
   "outputs": [],
   "source": [
    "def unbuild(self):\n",
    "        \"\"\"\n",
    "        Allows to add new items after a tree has been build\n",
    "        \"\"\"\n",
    "        return super(AnnoyIndex, self).unbuild()"
   ]
  },
  {
   "cell_type": "code",
   "execution_count": 177,
   "metadata": {},
   "outputs": [],
   "source": [
    "def make_plot(tree_list):\n",
    "    results = []\n",
    "    \n",
    "    for tree in tqdm(tree_list):\n",
    "        res = {'tree': tree}\n",
    "        #t.unbuild()\n",
    "        #t.build(tree)\n",
    "        #t.save('test.tree')\n",
    "        \n",
    "        annoy10_wrapped = wrap_with(t, 'get_nns_by_vector', [0, 1, 2])\n",
    "        num_query_list = []\n",
    "        recall_list = []\n",
    "        for para in [100, 500, 1000, 5000, 10000, 50000, 100000, 500000]:\n",
    "            algo100_time, algo100_recall = find_nearest_algo(track_vec, test_user_vec, bf_results, annoy10_wrapped, 500, para)\n",
    "            num_query_list.append(1/algo100_time)\n",
    "            recall_list.append(algo100_recall)\n",
    "        plt.plot(recall_list, num_query_list, label = 'Annoy (num_tree = {})'.format(tree))\n",
    "        plt.ylabel('Queries per second (1/s)')\n",
    "        plt.xlabel('Recall')\n",
    "        plt.title('Recall-Queries per second (1/s) tradeoff - up and to the right is better')\n",
    "        plt.yscale('log')\n",
    "        plt.legend()\n",
    "        plt.grid()\n",
    "        res['recall'] = recall_list\n",
    "        res['time'] = num_query_list\n",
    "        results.append(res)\n",
    "    return results"
   ]
  },
  {
   "cell_type": "code",
   "execution_count": 178,
   "metadata": {},
   "outputs": [
    {
     "data": {
      "application/vnd.jupyter.widget-view+json": {
       "model_id": "5e4a3e298f904a83ac5bff73986e31b4",
       "version_major": 2,
       "version_minor": 0
      },
      "text/plain": [
       "HBox(children=(HTML(value=''), FloatProgress(value=0.0, max=4.0), HTML(value='')))"
      ]
     },
     "metadata": {},
     "output_type": "display_data"
    },
    {
     "data": {
      "application/vnd.jupyter.widget-view+json": {
       "model_id": "3123d62b584f403eb3ccd581fa269beb",
       "version_major": 2,
       "version_minor": 0
      },
      "text/plain": [
       "HBox(children=(HTML(value=''), FloatProgress(value=0.0, max=21.0), HTML(value='')))"
      ]
     },
     "metadata": {},
     "output_type": "display_data"
    },
    {
     "name": "stdout",
     "output_type": "stream",
     "text": [
      "\n",
      "--------------------------\n",
      "Algorithm with k' = 500\n",
      "\n",
      "Mean Query Search Time: 0.001193\n",
      "Mean Recall: 0.078857\n"
     ]
    },
    {
     "data": {
      "application/vnd.jupyter.widget-view+json": {
       "model_id": "1fbe6d238d0644d483b8bb932377fcd0",
       "version_major": 2,
       "version_minor": 0
      },
      "text/plain": [
       "HBox(children=(HTML(value=''), FloatProgress(value=0.0, max=21.0), HTML(value='')))"
      ]
     },
     "metadata": {},
     "output_type": "display_data"
    },
    {
     "name": "stdout",
     "output_type": "stream",
     "text": [
      "\n",
      "--------------------------\n",
      "Algorithm with k' = 500\n",
      "\n",
      "Mean Query Search Time: 0.000540\n",
      "Mean Recall: 0.216762\n"
     ]
    },
    {
     "data": {
      "application/vnd.jupyter.widget-view+json": {
       "model_id": "f2b1e7be643c40e7a853893b461904d7",
       "version_major": 2,
       "version_minor": 0
      },
      "text/plain": [
       "HBox(children=(HTML(value=''), FloatProgress(value=0.0, max=21.0), HTML(value='')))"
      ]
     },
     "metadata": {},
     "output_type": "display_data"
    },
    {
     "name": "stdout",
     "output_type": "stream",
     "text": [
      "\n",
      "--------------------------\n",
      "Algorithm with k' = 500\n",
      "\n",
      "Mean Query Search Time: 0.000516\n",
      "Mean Recall: 0.307619\n"
     ]
    },
    {
     "data": {
      "application/vnd.jupyter.widget-view+json": {
       "model_id": "af72d9164c964caea89ff43a6f0137e4",
       "version_major": 2,
       "version_minor": 0
      },
      "text/plain": [
       "HBox(children=(HTML(value=''), FloatProgress(value=0.0, max=21.0), HTML(value='')))"
      ]
     },
     "metadata": {},
     "output_type": "display_data"
    },
    {
     "name": "stdout",
     "output_type": "stream",
     "text": [
      "\n",
      "--------------------------\n",
      "Algorithm with k' = 500\n",
      "\n",
      "Mean Query Search Time: 0.002142\n",
      "Mean Recall: 0.471048\n"
     ]
    },
    {
     "data": {
      "application/vnd.jupyter.widget-view+json": {
       "model_id": "130699091b934bdc8762e32394acf623",
       "version_major": 2,
       "version_minor": 0
      },
      "text/plain": [
       "HBox(children=(HTML(value=''), FloatProgress(value=0.0, max=21.0), HTML(value='')))"
      ]
     },
     "metadata": {},
     "output_type": "display_data"
    },
    {
     "name": "stdout",
     "output_type": "stream",
     "text": [
      "\n",
      "--------------------------\n",
      "Algorithm with k' = 500\n",
      "\n",
      "Mean Query Search Time: 0.001734\n",
      "Mean Recall: 0.568286\n"
     ]
    },
    {
     "data": {
      "application/vnd.jupyter.widget-view+json": {
       "model_id": "c86f4b19de3a4c4b94e480d243d60590",
       "version_major": 2,
       "version_minor": 0
      },
      "text/plain": [
       "HBox(children=(HTML(value=''), FloatProgress(value=0.0, max=21.0), HTML(value='')))"
      ]
     },
     "metadata": {},
     "output_type": "display_data"
    },
    {
     "name": "stdout",
     "output_type": "stream",
     "text": [
      "\n",
      "--------------------------\n",
      "Algorithm with k' = 500\n",
      "\n",
      "Mean Query Search Time: 0.010326\n",
      "Mean Recall: 0.662476\n"
     ]
    },
    {
     "data": {
      "application/vnd.jupyter.widget-view+json": {
       "model_id": "5cac9b7e9cef4b1198b95aea7bc0c520",
       "version_major": 2,
       "version_minor": 0
      },
      "text/plain": [
       "HBox(children=(HTML(value=''), FloatProgress(value=0.0, max=21.0), HTML(value='')))"
      ]
     },
     "metadata": {},
     "output_type": "display_data"
    },
    {
     "name": "stdout",
     "output_type": "stream",
     "text": [
      "\n",
      "--------------------------\n",
      "Algorithm with k' = 500\n",
      "\n",
      "Mean Query Search Time: 0.008778\n",
      "Mean Recall: 0.682762\n"
     ]
    },
    {
     "data": {
      "application/vnd.jupyter.widget-view+json": {
       "model_id": "4a7c42129d5147778f3535bb56360ffb",
       "version_major": 2,
       "version_minor": 0
      },
      "text/plain": [
       "HBox(children=(HTML(value=''), FloatProgress(value=0.0, max=21.0), HTML(value='')))"
      ]
     },
     "metadata": {},
     "output_type": "display_data"
    },
    {
     "name": "stdout",
     "output_type": "stream",
     "text": [
      "\n",
      "--------------------------\n",
      "Algorithm with k' = 500\n",
      "\n",
      "Mean Query Search Time: 0.045166\n",
      "Mean Recall: 0.999810\n"
     ]
    },
    {
     "data": {
      "application/vnd.jupyter.widget-view+json": {
       "model_id": "b5ad37995e6246638eef8cb4aa004931",
       "version_major": 2,
       "version_minor": 0
      },
      "text/plain": [
       "HBox(children=(HTML(value=''), FloatProgress(value=0.0, max=21.0), HTML(value='')))"
      ]
     },
     "metadata": {},
     "output_type": "display_data"
    },
    {
     "name": "stdout",
     "output_type": "stream",
     "text": [
      "\n",
      "--------------------------\n",
      "Algorithm with k' = 500\n",
      "\n",
      "Mean Query Search Time: 0.000820\n",
      "Mean Recall: 0.078857\n"
     ]
    },
    {
     "data": {
      "application/vnd.jupyter.widget-view+json": {
       "model_id": "eb4d91f35fea4c58b8ac9aaa4e9c043f",
       "version_major": 2,
       "version_minor": 0
      },
      "text/plain": [
       "HBox(children=(HTML(value=''), FloatProgress(value=0.0, max=21.0), HTML(value='')))"
      ]
     },
     "metadata": {},
     "output_type": "display_data"
    },
    {
     "name": "stdout",
     "output_type": "stream",
     "text": [
      "\n",
      "--------------------------\n",
      "Algorithm with k' = 500\n",
      "\n",
      "Mean Query Search Time: 0.000505\n",
      "Mean Recall: 0.216762\n"
     ]
    },
    {
     "data": {
      "application/vnd.jupyter.widget-view+json": {
       "model_id": "ec0395462bfe4b8d9c8f4eda8061bfcd",
       "version_major": 2,
       "version_minor": 0
      },
      "text/plain": [
       "HBox(children=(HTML(value=''), FloatProgress(value=0.0, max=21.0), HTML(value='')))"
      ]
     },
     "metadata": {},
     "output_type": "display_data"
    },
    {
     "name": "stdout",
     "output_type": "stream",
     "text": [
      "\n",
      "--------------------------\n",
      "Algorithm with k' = 500\n",
      "\n",
      "Mean Query Search Time: 0.000867\n",
      "Mean Recall: 0.307619\n"
     ]
    },
    {
     "data": {
      "application/vnd.jupyter.widget-view+json": {
       "model_id": "87163582dbd241d3a960689c013a149c",
       "version_major": 2,
       "version_minor": 0
      },
      "text/plain": [
       "HBox(children=(HTML(value=''), FloatProgress(value=0.0, max=21.0), HTML(value='')))"
      ]
     },
     "metadata": {},
     "output_type": "display_data"
    },
    {
     "name": "stdout",
     "output_type": "stream",
     "text": [
      "\n",
      "--------------------------\n",
      "Algorithm with k' = 500\n",
      "\n",
      "Mean Query Search Time: 0.001530\n",
      "Mean Recall: 0.471048\n"
     ]
    },
    {
     "data": {
      "application/vnd.jupyter.widget-view+json": {
       "model_id": "712fe303acd84eaf9f56ad421f570f8d",
       "version_major": 2,
       "version_minor": 0
      },
      "text/plain": [
       "HBox(children=(HTML(value=''), FloatProgress(value=0.0, max=21.0), HTML(value='')))"
      ]
     },
     "metadata": {},
     "output_type": "display_data"
    },
    {
     "name": "stdout",
     "output_type": "stream",
     "text": [
      "\n",
      "--------------------------\n",
      "Algorithm with k' = 500\n",
      "\n",
      "Mean Query Search Time: 0.002325\n",
      "Mean Recall: 0.568286\n"
     ]
    },
    {
     "data": {
      "application/vnd.jupyter.widget-view+json": {
       "model_id": "555dc1574773451b831ec389b89e24d9",
       "version_major": 2,
       "version_minor": 0
      },
      "text/plain": [
       "HBox(children=(HTML(value=''), FloatProgress(value=0.0, max=21.0), HTML(value='')))"
      ]
     },
     "metadata": {},
     "output_type": "display_data"
    },
    {
     "name": "stdout",
     "output_type": "stream",
     "text": [
      "\n",
      "--------------------------\n",
      "Algorithm with k' = 500\n",
      "\n",
      "Mean Query Search Time: 0.010096\n",
      "Mean Recall: 0.662476\n"
     ]
    },
    {
     "data": {
      "application/vnd.jupyter.widget-view+json": {
       "model_id": "9ea7caf3b86144fda3ea24b4842d62ad",
       "version_major": 2,
       "version_minor": 0
      },
      "text/plain": [
       "HBox(children=(HTML(value=''), FloatProgress(value=0.0, max=21.0), HTML(value='')))"
      ]
     },
     "metadata": {},
     "output_type": "display_data"
    },
    {
     "name": "stdout",
     "output_type": "stream",
     "text": [
      "\n",
      "--------------------------\n",
      "Algorithm with k' = 500\n",
      "\n",
      "Mean Query Search Time: 0.009123\n",
      "Mean Recall: 0.682762\n"
     ]
    },
    {
     "data": {
      "application/vnd.jupyter.widget-view+json": {
       "model_id": "a4e11812acfd4139813aab9511c5f706",
       "version_major": 2,
       "version_minor": 0
      },
      "text/plain": [
       "HBox(children=(HTML(value=''), FloatProgress(value=0.0, max=21.0), HTML(value='')))"
      ]
     },
     "metadata": {},
     "output_type": "display_data"
    },
    {
     "name": "stdout",
     "output_type": "stream",
     "text": [
      "\n",
      "--------------------------\n",
      "Algorithm with k' = 500\n",
      "\n",
      "Mean Query Search Time: 0.035317\n",
      "Mean Recall: 0.999810\n"
     ]
    },
    {
     "data": {
      "application/vnd.jupyter.widget-view+json": {
       "model_id": "e876b5f1cbf8417ebd4ce5c353e5d2ce",
       "version_major": 2,
       "version_minor": 0
      },
      "text/plain": [
       "HBox(children=(HTML(value=''), FloatProgress(value=0.0, max=21.0), HTML(value='')))"
      ]
     },
     "metadata": {},
     "output_type": "display_data"
    },
    {
     "name": "stdout",
     "output_type": "stream",
     "text": [
      "\n",
      "--------------------------\n",
      "Algorithm with k' = 500\n",
      "\n",
      "Mean Query Search Time: 0.000254\n",
      "Mean Recall: 0.078857\n"
     ]
    },
    {
     "data": {
      "application/vnd.jupyter.widget-view+json": {
       "model_id": "cd8f222f811d41b7b90c1a1592308137",
       "version_major": 2,
       "version_minor": 0
      },
      "text/plain": [
       "HBox(children=(HTML(value=''), FloatProgress(value=0.0, max=21.0), HTML(value='')))"
      ]
     },
     "metadata": {},
     "output_type": "display_data"
    },
    {
     "name": "stdout",
     "output_type": "stream",
     "text": [
      "\n",
      "--------------------------\n",
      "Algorithm with k' = 500\n",
      "\n",
      "Mean Query Search Time: 0.000565\n",
      "Mean Recall: 0.216762\n"
     ]
    },
    {
     "data": {
      "application/vnd.jupyter.widget-view+json": {
       "model_id": "c55418443608405696d60fc348cadcac",
       "version_major": 2,
       "version_minor": 0
      },
      "text/plain": [
       "HBox(children=(HTML(value=''), FloatProgress(value=0.0, max=21.0), HTML(value='')))"
      ]
     },
     "metadata": {},
     "output_type": "display_data"
    },
    {
     "name": "stdout",
     "output_type": "stream",
     "text": [
      "\n",
      "--------------------------\n",
      "Algorithm with k' = 500\n",
      "\n",
      "Mean Query Search Time: 0.000274\n",
      "Mean Recall: 0.307619\n"
     ]
    },
    {
     "data": {
      "application/vnd.jupyter.widget-view+json": {
       "model_id": "b295c5fb0e884c25ad6979fbe17c4bd8",
       "version_major": 2,
       "version_minor": 0
      },
      "text/plain": [
       "HBox(children=(HTML(value=''), FloatProgress(value=0.0, max=21.0), HTML(value='')))"
      ]
     },
     "metadata": {},
     "output_type": "display_data"
    },
    {
     "name": "stdout",
     "output_type": "stream",
     "text": [
      "\n",
      "--------------------------\n",
      "Algorithm with k' = 500\n",
      "\n",
      "Mean Query Search Time: 0.002412\n",
      "Mean Recall: 0.471048\n"
     ]
    },
    {
     "data": {
      "application/vnd.jupyter.widget-view+json": {
       "model_id": "114d9258fa4b4f1585c11c66fd3ebb1f",
       "version_major": 2,
       "version_minor": 0
      },
      "text/plain": [
       "HBox(children=(HTML(value=''), FloatProgress(value=0.0, max=21.0), HTML(value='')))"
      ]
     },
     "metadata": {},
     "output_type": "display_data"
    },
    {
     "name": "stdout",
     "output_type": "stream",
     "text": [
      "\n",
      "--------------------------\n",
      "Algorithm with k' = 500\n",
      "\n",
      "Mean Query Search Time: 0.002624\n",
      "Mean Recall: 0.568286\n"
     ]
    },
    {
     "data": {
      "application/vnd.jupyter.widget-view+json": {
       "model_id": "18f50e3d7817487c91d1093d361caf5f",
       "version_major": 2,
       "version_minor": 0
      },
      "text/plain": [
       "HBox(children=(HTML(value=''), FloatProgress(value=0.0, max=21.0), HTML(value='')))"
      ]
     },
     "metadata": {},
     "output_type": "display_data"
    },
    {
     "name": "stdout",
     "output_type": "stream",
     "text": [
      "\n",
      "--------------------------\n",
      "Algorithm with k' = 500\n",
      "\n",
      "Mean Query Search Time: 0.005271\n",
      "Mean Recall: 0.662476\n"
     ]
    },
    {
     "data": {
      "application/vnd.jupyter.widget-view+json": {
       "model_id": "07afb34a1ee94454a173290cdcdf071f",
       "version_major": 2,
       "version_minor": 0
      },
      "text/plain": [
       "HBox(children=(HTML(value=''), FloatProgress(value=0.0, max=21.0), HTML(value='')))"
      ]
     },
     "metadata": {},
     "output_type": "display_data"
    },
    {
     "name": "stdout",
     "output_type": "stream",
     "text": [
      "\n",
      "--------------------------\n",
      "Algorithm with k' = 500\n",
      "\n",
      "Mean Query Search Time: 0.010729\n",
      "Mean Recall: 0.682762\n"
     ]
    },
    {
     "data": {
      "application/vnd.jupyter.widget-view+json": {
       "model_id": "5b5639e25ab34b0abad21a2e4c283b0c",
       "version_major": 2,
       "version_minor": 0
      },
      "text/plain": [
       "HBox(children=(HTML(value=''), FloatProgress(value=0.0, max=21.0), HTML(value='')))"
      ]
     },
     "metadata": {},
     "output_type": "display_data"
    },
    {
     "name": "stdout",
     "output_type": "stream",
     "text": [
      "\n",
      "--------------------------\n",
      "Algorithm with k' = 500\n",
      "\n",
      "Mean Query Search Time: 0.041571\n",
      "Mean Recall: 0.999810\n"
     ]
    },
    {
     "data": {
      "application/vnd.jupyter.widget-view+json": {
       "model_id": "63bd9f22d148471986ff3bd8955b19fc",
       "version_major": 2,
       "version_minor": 0
      },
      "text/plain": [
       "HBox(children=(HTML(value=''), FloatProgress(value=0.0, max=21.0), HTML(value='')))"
      ]
     },
     "metadata": {},
     "output_type": "display_data"
    },
    {
     "name": "stdout",
     "output_type": "stream",
     "text": [
      "\n",
      "--------------------------\n",
      "Algorithm with k' = 500\n",
      "\n",
      "Mean Query Search Time: 0.000105\n",
      "Mean Recall: 0.078857\n"
     ]
    },
    {
     "data": {
      "application/vnd.jupyter.widget-view+json": {
       "model_id": "2946f6028a84444caec1e55a18ed9347",
       "version_major": 2,
       "version_minor": 0
      },
      "text/plain": [
       "HBox(children=(HTML(value=''), FloatProgress(value=0.0, max=21.0), HTML(value='')))"
      ]
     },
     "metadata": {},
     "output_type": "display_data"
    },
    {
     "name": "stdout",
     "output_type": "stream",
     "text": [
      "\n",
      "--------------------------\n",
      "Algorithm with k' = 500\n",
      "\n",
      "Mean Query Search Time: 0.000160\n",
      "Mean Recall: 0.216762\n"
     ]
    },
    {
     "data": {
      "application/vnd.jupyter.widget-view+json": {
       "model_id": "c5f02e7f239049dfabe8e7f7dfaaae35",
       "version_major": 2,
       "version_minor": 0
      },
      "text/plain": [
       "HBox(children=(HTML(value=''), FloatProgress(value=0.0, max=21.0), HTML(value='')))"
      ]
     },
     "metadata": {},
     "output_type": "display_data"
    },
    {
     "name": "stdout",
     "output_type": "stream",
     "text": [
      "\n",
      "--------------------------\n",
      "Algorithm with k' = 500\n",
      "\n",
      "Mean Query Search Time: 0.000472\n",
      "Mean Recall: 0.307619\n"
     ]
    },
    {
     "data": {
      "application/vnd.jupyter.widget-view+json": {
       "model_id": "c173233a47774857bb0367740987e378",
       "version_major": 2,
       "version_minor": 0
      },
      "text/plain": [
       "HBox(children=(HTML(value=''), FloatProgress(value=0.0, max=21.0), HTML(value='')))"
      ]
     },
     "metadata": {},
     "output_type": "display_data"
    },
    {
     "name": "stdout",
     "output_type": "stream",
     "text": [
      "\n",
      "--------------------------\n",
      "Algorithm with k' = 500\n",
      "\n",
      "Mean Query Search Time: 0.000770\n",
      "Mean Recall: 0.471048\n"
     ]
    },
    {
     "data": {
      "application/vnd.jupyter.widget-view+json": {
       "model_id": "4f5b76dd6be44bf2842da1f8f2efa5f5",
       "version_major": 2,
       "version_minor": 0
      },
      "text/plain": [
       "HBox(children=(HTML(value=''), FloatProgress(value=0.0, max=21.0), HTML(value='')))"
      ]
     },
     "metadata": {},
     "output_type": "display_data"
    },
    {
     "name": "stdout",
     "output_type": "stream",
     "text": [
      "\n",
      "--------------------------\n",
      "Algorithm with k' = 500\n",
      "\n",
      "Mean Query Search Time: 0.001413\n",
      "Mean Recall: 0.568286\n"
     ]
    },
    {
     "data": {
      "application/vnd.jupyter.widget-view+json": {
       "model_id": "93c13200081b4df2b4006ce84241620a",
       "version_major": 2,
       "version_minor": 0
      },
      "text/plain": [
       "HBox(children=(HTML(value=''), FloatProgress(value=0.0, max=21.0), HTML(value='')))"
      ]
     },
     "metadata": {},
     "output_type": "display_data"
    },
    {
     "name": "stdout",
     "output_type": "stream",
     "text": [
      "\n",
      "--------------------------\n",
      "Algorithm with k' = 500\n",
      "\n",
      "Mean Query Search Time: 0.003704\n",
      "Mean Recall: 0.662476\n"
     ]
    },
    {
     "data": {
      "application/vnd.jupyter.widget-view+json": {
       "model_id": "c867c95ee5b14110b2724fc4ceecd5ef",
       "version_major": 2,
       "version_minor": 0
      },
      "text/plain": [
       "HBox(children=(HTML(value=''), FloatProgress(value=0.0, max=21.0), HTML(value='')))"
      ]
     },
     "metadata": {},
     "output_type": "display_data"
    },
    {
     "name": "stdout",
     "output_type": "stream",
     "text": [
      "\n",
      "--------------------------\n",
      "Algorithm with k' = 500\n",
      "\n",
      "Mean Query Search Time: 0.006626\n",
      "Mean Recall: 0.682762\n"
     ]
    },
    {
     "data": {
      "application/vnd.jupyter.widget-view+json": {
       "model_id": "74a4dfb131dc43dc989bb98e03da9a2d",
       "version_major": 2,
       "version_minor": 0
      },
      "text/plain": [
       "HBox(children=(HTML(value=''), FloatProgress(value=0.0, max=21.0), HTML(value='')))"
      ]
     },
     "metadata": {},
     "output_type": "display_data"
    },
    {
     "name": "stdout",
     "output_type": "stream",
     "text": [
      "\n",
      "--------------------------\n",
      "Algorithm with k' = 500\n",
      "\n",
      "Mean Query Search Time: 0.029159\n",
      "Mean Recall: 0.999810\n",
      "\n"
     ]
    },
    {
     "data": {
      "image/png": "[encoded data removed]",
      "text/plain": [
       "<Figure size 432x288 with 1 Axes>"
      ]
     },
     "metadata": {
      "needs_background": "light"
     },
     "output_type": "display_data"
    }
   ],
   "source": [
    "tree_list = [1, 5,20,30]\n",
    "plot_data_try = make_plot(tree_list)"
   ]
  },
  {
   "cell_type": "code",
   "execution_count": null,
   "metadata": {},
   "outputs": [],
   "source": []
  },
  {
   "cell_type": "code",
   "execution_count": null,
   "metadata": {},
   "outputs": [],
   "source": []
  }
 ],
 "metadata": {
  "kernelspec": {
   "display_name": "Python 3",
   "language": "python",
   "name": "python3"
  },
  "language_info": {
   "codemirror_mode": {
    "name": "ipython",
    "version": 3
   },
   "file_extension": ".py",
   "mimetype": "text/x-python",
   "name": "python",
   "nbconvert_exporter": "python",
   "pygments_lexer": "ipython3",
   "version": "3.8.5"
  }
 },
 "nbformat": 4,
 "nbformat_minor": 4
}
